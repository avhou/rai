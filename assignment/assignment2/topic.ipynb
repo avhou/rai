{
 "cells": [
  {
   "cell_type": "code",
   "execution_count": 3,
   "id": "initial_id",
   "metadata": {
    "collapsed": true,
    "ExecuteTime": {
     "end_time": "2024-04-30T19:13:57.658120Z",
     "start_time": "2024-04-30T18:40:24.725958Z"
    }
   },
   "outputs": [
    {
     "name": "stdout",
     "output_type": "stream",
     "text": [
      "start tokenizing\n",
      "[['music'], ['hello'], ['everyone', 'welcome'], ['final', 'session'], ['bgi', '24', 'end', 'event'], ['get', 'barbecue', 'pool'], [], ['around'], ['rest', 'day', 'informally'], ['discuss', 'various', 'thing']]\n",
      "creating dictionary\n",
      "creating corpus\n",
      "dictionary and corpus saved\n"
     ]
    }
   ],
   "source": [
    "from gensim import corpora\n",
    "import pickle\n",
    "from utils import read_tokenized_transcripts_lines\n",
    "from typing import *\n",
    "\n",
    "print(f\"start tokenizing\")\n",
    "text_data: List[List[str]] = read_tokenized_transcripts_lines(\"scientific-after/transcripts.txt\")\n",
    "print(text_data[:10])\n",
    "\n",
    "print(f\"creating dictionary\")\n",
    "dictionary = corpora.Dictionary(text_data)\n",
    "dictionary.save('dictionary.gensim')\n",
    "\n",
    "print(f\"creating corpus\")\n",
    "corpus = [dictionary.doc2bow(text) for text in text_data]\n",
    "pickle.dump(corpus, open('corpus.pkl', 'wb'))\n",
    "\n",
    "print(f\"dictionary and corpus saved\")"
   ]
  },
  {
   "cell_type": "code",
   "outputs": [
    {
     "name": "stdout",
     "output_type": "stream",
     "text": [
      "(0, '0.106*\"know\" + 0.072*\"think\" + 0.025*\"something\" + 0.022*\"yeah\"')\n",
      "(1, '0.099*\"like\" + 0.032*\"get\" + 0.027*\"kind\" + 0.024*\"human\"')\n",
      "(2, '0.028*\"actually\" + 0.026*\"model\" + 0.024*\"even\" + 0.022*\"time\"')\n",
      "(3, '0.062*\"go\" + 0.040*\"people\" + 0.037*\"ai\" + 0.036*\"right\"')\n",
      "(4, '0.030*\"way\" + 0.030*\"system\" + 0.023*\"need\" + 0.022*\"ai\"')\n"
     ]
    }
   ],
   "source": [
    "import gensim\n",
    "NUM_TOPICS = 5\n",
    "ldamodel = gensim.models.ldamodel.LdaModel(corpus, num_topics = NUM_TOPICS, id2word=dictionary, passes=15)\n",
    "ldamodel.save('model5.gensim')\n",
    "\n",
    "topics = ldamodel.print_topics(num_words=4)\n",
    "for topic in topics:\n",
    "    print(topic)"
   ],
   "metadata": {
    "collapsed": false,
    "ExecuteTime": {
     "end_time": "2024-05-01T05:20:03.931559Z",
     "start_time": "2024-05-01T05:19:39.009490Z"
    }
   },
   "id": "3fe39965cea26f15",
   "execution_count": 4
  }
 ],
 "metadata": {
  "kernelspec": {
   "display_name": "Python 3",
   "language": "python",
   "name": "python3"
  },
  "language_info": {
   "codemirror_mode": {
    "name": "ipython",
    "version": 2
   },
   "file_extension": ".py",
   "mimetype": "text/x-python",
   "name": "python",
   "nbconvert_exporter": "python",
   "pygments_lexer": "ipython2",
   "version": "2.7.6"
  }
 },
 "nbformat": 4,
 "nbformat_minor": 5
}
